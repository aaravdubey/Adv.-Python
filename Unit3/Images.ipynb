{
 "cells": [
  {
   "cell_type": "code",
   "execution_count": 5,
   "metadata": {},
   "outputs": [],
   "source": [
    "from PIL import Image\n",
    "file = \"D:/Wallpapers/DALL-E.png\"\n",
    "\n",
    "with Image.open(file) as img:\n",
    "  img.load()"
   ]
  },
  {
   "cell_type": "code",
   "execution_count": 11,
   "metadata": {},
   "outputs": [
    {
     "name": "stdout",
     "output_type": "stream",
     "text": [
      "<class 'PIL.PngImagePlugin.PngImageFile'>\n",
      "True\n",
      "PNG\n",
      "(1024, 1024)\n",
      "RGB\n"
     ]
    }
   ],
   "source": [
    "print(type(img))\n",
    "print(isinstance(img, Image.Image))\n",
    "# img.show()\n",
    "print(img.format)\n",
    "print(img.size)\n",
    "print(img.mode)"
   ]
  },
  {
   "cell_type": "code",
   "execution_count": 18,
   "metadata": {},
   "outputs": [
    {
     "name": "stdout",
     "output_type": "stream",
     "text": [
      "(400, 850)\n"
     ]
    }
   ],
   "source": [
    "cropped = img.crop((300, 150, 700, 1000))\n",
    "print(cropped.size)\n",
    "cropped.show()"
   ]
  },
  {
   "cell_type": "code",
   "execution_count": 22,
   "metadata": {},
   "outputs": [],
   "source": [
    "resized = cropped.resize([1024, 1024])\n",
    "resized.show()\n"
   ]
  },
  {
   "cell_type": "code",
   "execution_count": 23,
   "metadata": {},
   "outputs": [],
   "source": [
    "reduced = resized.reduce(4)\n",
    "reduced.show()"
   ]
  },
  {
   "cell_type": "code",
   "execution_count": 24,
   "metadata": {},
   "outputs": [],
   "source": [
    "reduced.save('reducedImage.png')"
   ]
  },
  {
   "cell_type": "code",
   "execution_count": 31,
   "metadata": {},
   "outputs": [],
   "source": [
    "img.transpose(Image.Transpose.FLIP_TOP_BOTTOM).show()\n",
    "img.transpose(Image.Transpose.FLIP_LEFT_RIGHT).show()\n",
    "img.transpose(Image.Transpose.ROTATE_90).show()\n",
    "img.transpose(Image.Transpose.TRANSPOSE).show()\n",
    "img.transpose(Image.Transpose.TRANSVERSE).show()"
   ]
  },
  {
   "cell_type": "code",
   "execution_count": 30,
   "metadata": {},
   "outputs": [],
   "source": [
    "img.rotate(45).show()\n",
    "img.rotate(45, expand=True).show()"
   ]
  },
  {
   "cell_type": "code",
   "execution_count": null,
   "metadata": {},
   "outputs": [],
   "source": []
  }
 ],
 "metadata": {
  "kernelspec": {
   "display_name": "Python 3",
   "language": "python",
   "name": "python3"
  },
  "language_info": {
   "codemirror_mode": {
    "name": "ipython",
    "version": 3
   },
   "file_extension": ".py",
   "mimetype": "text/x-python",
   "name": "python",
   "nbconvert_exporter": "python",
   "pygments_lexer": "ipython3",
   "version": "3.10.0"
  }
 },
 "nbformat": 4,
 "nbformat_minor": 2
}

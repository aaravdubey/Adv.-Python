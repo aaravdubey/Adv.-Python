{
 "cells": [
  {
   "cell_type": "markdown",
   "metadata": {},
   "source": [
    "Name - Dubey Aarav Shailesh        \n",
    "Reg No - 2347114            \n",
    "P5"
   ]
  },
  {
   "cell_type": "code",
   "execution_count": 9,
   "metadata": {},
   "outputs": [],
   "source": [
    "import cv2 as cv\n",
    "import os"
   ]
  },
  {
   "cell_type": "code",
   "execution_count": 2,
   "metadata": {},
   "outputs": [],
   "source": [
    "cap = cv.VideoCapture(\"C:\\\\Users\\\\daara\\\\Downloads\\\\Venice.mp4\")\n",
    "\n",
    "try:\n",
    "    if not os.path.exists(\"./data\"):\n",
    "        os.makedirs(\"./data\")\n",
    "except OSError as e:\n",
    "    print(\"Error creating dir: \", e)\n",
    "\n",
    "frm = 0\n",
    "\n",
    "while True:\n",
    "    ret, frame = cap.read()\n",
    "\n",
    "    if ret:\n",
    "        name = \"./data/frame_\" + str(frm) + \".jpg\"\n",
    "        cv.imwrite(name, frame)\n",
    "        frm += 1\n",
    "    else:\n",
    "        break\n",
    "\n",
    "cap.release()\n",
    "cv.destroyAllWindows()"
   ]
  },
  {
   "cell_type": "code",
   "execution_count": 3,
   "metadata": {},
   "outputs": [],
   "source": [
    "dir = os.listdir(\"./data\")\n",
    "lst=[]\n",
    "\n",
    "for i in dir:\n",
    "    lst.append(cv.imread(\"./data/\"+i))\n",
    "\n",
    "if lst:\n",
    "    fcc = cv.VideoWriter_fourcc(*'mp4v')\n",
    "    vid = cv.VideoWriter('img_to_vid.mp4', fcc, 25, list(lst[0].shape)[1::-1])\n",
    "\n",
    "    for img in lst:\n",
    "        vid.write(img)\n",
    "    vid.release()\n",
    "else:\n",
    "    print(\"No more frames\")\n"
   ]
  },
  {
   "cell_type": "code",
   "execution_count": 5,
   "metadata": {},
   "outputs": [],
   "source": [
    "try:\n",
    "    fr = int(input(\"Enter frame rate: \"))\n",
    "    res_input = input(\"Enter resolution: \")\n",
    "    res = None\n",
    "\n",
    "    if res_input:\n",
    "        res = [int(i) for i in res_input.split('x')]\n",
    "        w = int(res[0])\n",
    "        h = int(res[1])\n",
    "\n",
    "    data = os.listdir(\"./data\")\n",
    "    lst = []\n",
    "\n",
    "    for i in data:\n",
    "        img = cv.imread(\"./data/\"+i)\n",
    "        if img is None:\n",
    "            print(f\"Error in loading image: {i}\")\n",
    "            continue\n",
    "        lst.append(cv.resize(img, (w, h)))\n",
    "\n",
    "    if lst:\n",
    "        fcc = cv.VideoWriter_fourcc(*'mp4v')\n",
    "        out = cv.VideoWriter('img_to_video2.mp4', fcc, fr, tuple(res))\n",
    "\n",
    "        for frame in lst:\n",
    "            out.write(frame)\n",
    "        out.release()\n",
    "    else:\n",
    "        print(\"No more frames\")\n",
    "\n",
    "except FileNotFoundError:\n",
    "    print(\"Dir not found\")\n",
    "\n",
    "except Exception as e:\n",
    "    print(f\"Error occurred: {e}\")"
   ]
  },
  {
   "cell_type": "code",
   "execution_count": 6,
   "metadata": {},
   "outputs": [],
   "source": [
    "vf = os.listdir(\"./data\")\n",
    "fr = []\n",
    "\n",
    "for i in vf:\n",
    "    fr.append(cv.imread(\"./data/\"+i))\n",
    "\n",
    "for i in range(len(fr)):\n",
    "    fr[i] = cv.bilateralFilter(fr[i], 9, 75, 75)  # Preserves edges while reducing noise\n",
    "\n",
    "if fr:\n",
    "    fcc = cv.VideoWriter_fourcc(*'mp4v')\n",
    "    out = cv.VideoWriter('bilateral_filtered.mp4', fcc, 25, list(fr[0].shape)[1::-1])\n",
    "\n",
    "    for frame in fr:\n",
    "        out.write(frame)\n",
    "    out.release()\n",
    "else:\n",
    "    print(\"No more frames\")\n"
   ]
  },
  {
   "cell_type": "code",
   "execution_count": 10,
   "metadata": {},
   "outputs": [],
   "source": [
    "camera = cv.VideoCapture(0)\n",
    "\n",
    "if camera.isOpened()==False:\n",
    "    print(\"Error while opening camera\")\n",
    "\n",
    "frames = []\n",
    "\n",
    "while camera.isOpened():\n",
    "    ret, frame = camera.read()\n",
    "\n",
    "    if ret==True:\n",
    "        cv.imshow(\"Real-time Image Acquisition\", frame)\n",
    "        frames.append(frame)\n",
    "        key = cv.waitKey(1)\n",
    "        if key == ord('q'):\n",
    "            break\n",
    "    else:\n",
    "        break\n",
    "\n",
    "camera.release()\n",
    "cv.destroyAllWindows()\n",
    "\n",
    "if frames:\n",
    "    fcc = cv.VideoWriter_fourcc(*'mp4v')\n",
    "    out = cv.VideoWriter('realtime.mp4', fcc, 25, list(frames[0].shape)[1::-1])\n",
    "\n",
    "    for frame in frames:\n",
    "        out.write(frame)\n",
    "    out.release()\n",
    "else:\n",
    "    print(\"No frames to write\")\n"
   ]
  }
 ],
 "metadata": {
  "kernelspec": {
   "display_name": "Python 3",
   "language": "python",
   "name": "python3"
  },
  "language_info": {
   "codemirror_mode": {
    "name": "ipython",
    "version": 3
   },
   "file_extension": ".py",
   "mimetype": "text/x-python",
   "name": "python",
   "nbconvert_exporter": "python",
   "pygments_lexer": "ipython3",
   "version": "3.10.0"
  }
 },
 "nbformat": 4,
 "nbformat_minor": 2
}

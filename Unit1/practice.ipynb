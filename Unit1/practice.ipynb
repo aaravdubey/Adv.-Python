{
 "cells": [
  {
   "cell_type": "code",
   "execution_count": 12,
   "metadata": {},
   "outputs": [],
   "source": [
    "import matplotlib.pyplot as plt\n",
    "import pandas as pd\n",
    "import geopandas as gpd\n",
    "df = pd.read_csv(\"Iris.csv\")"
   ]
  },
  {
   "cell_type": "code",
   "execution_count": 11,
   "metadata": {},
   "outputs": [
    {
     "data": {
      "image/png": "[encoded data removed]",
      "text/plain": [
       "<Figure size 432x288 with 1 Axes>"
      ]
     },
     "metadata": {
      "needs_background": "light"
     },
     "output_type": "display_data"
    }
   ],
   "source": [
    "ax = plt.axes(projection=\"3d\")\n",
    "\n",
    "#rotation - elevation(xy plane), azimuth(z-axis), roll(viewing angle)\n",
    "ax.view_init(elev=90, azim=280, roll=10)\n",
    "\n",
    "#PLOTS\n",
    "ax.scatter(df['PetalWidthCm'], df['PetalLengthCm'], df['SepalLengthCm'])\n",
    "ax.plot3D(sorted(df['PetalWidthCm']), sorted(df['PetalLengthCm']), sorted(df['SepalLengthCm']))\n",
    "#zs - position along z-axis, zdir = oreintation parallel to x-axis\n",
    "ax.bar(df['Id'], df['PetalLengthCm'], zs=1, zdir='x')\n"
   ]
  },
  {
   "cell_type": "code",
   "execution_count": 15,
   "metadata": {},
   "outputs": [
    {
     "name": "stderr",
     "output_type": "stream",
     "text": [
      "C:\\Users\\daara\\AppData\\Local\\Temp\\ipykernel_13000\\3271689382.py:2: FutureWarning: The geopandas.dataset module is deprecated and will be removed in GeoPandas 1.0. You can get the original 'naturalearth_lowres' data from https://www.naturalearthdata.com/downloads/110m-cultural-vectors/.\n",
      "  world_gdf = gpd.read_file(gpd.datasets.get_path(\"naturalearth_lowres\"))\n"
     ]
    },
    {
     "ename": "NameError",
     "evalue": "name 'deaths' is not defined",
     "output_type": "error",
     "traceback": [
      "\u001b[1;31m---------------------------------------------------------------------------\u001b[0m",
      "\u001b[1;31mNameError\u001b[0m                                 Traceback (most recent call last)",
      "Input \u001b[1;32mIn [15]\u001b[0m, in \u001b[0;36m<module>\u001b[1;34m\u001b[0m\n\u001b[0;32m      4\u001b[0m \u001b[38;5;66;03m#Coordinate Reference System (CRS) - how the spatial coordinates (latitude and longitude) are interpreted and mapped onto a two-dimensional plane\u001b[39;00m\n\u001b[0;32m      5\u001b[0m world_gdf\u001b[38;5;241m.\u001b[39mcrs\n\u001b[1;32m----> 7\u001b[0m ax \u001b[38;5;241m=\u001b[39m \u001b[43mdeaths\u001b[49m\u001b[38;5;241m.\u001b[39mplot(column\u001b[38;5;241m=\u001b[39m\u001b[38;5;124m\"\u001b[39m\u001b[38;5;124mCount\u001b[39m\u001b[38;5;124m\"\u001b[39m, alpha\u001b[38;5;241m=\u001b[39m\u001b[38;5;241m0.7\u001b[39m, legend\u001b[38;5;241m=\u001b[39m\u001b[38;5;28;01mTrue\u001b[39;00m)\n\u001b[0;32m      8\u001b[0m pumps\u001b[38;5;241m.\u001b[39mplot(ax\u001b[38;5;241m=\u001b[39max, marker\u001b[38;5;241m=\u001b[39m\u001b[38;5;124m'\u001b[39m\u001b[38;5;124mx\u001b[39m\u001b[38;5;124m'\u001b[39m, color\u001b[38;5;241m=\u001b[39m\u001b[38;5;124m'\u001b[39m\u001b[38;5;124mr\u001b[39m\u001b[38;5;124m'\u001b[39m, markersize\u001b[38;5;241m=\u001b[39m\u001b[38;5;241m50\u001b[39m)\n",
      "\u001b[1;31mNameError\u001b[0m: name 'deaths' is not defined"
     ]
    }
   ],
   "source": [
    "#GEOPANDAS\n",
    "#read_file() - reads shapefiles/datasets and creates a GeoDataFrame (Dataframe able to handle spatial data)\n",
    "world_gdf = gpd.read_file(gpd.datasets.get_path(\"naturalearth_lowres\"))\n",
    "\n",
    "#Coordinate Reference System (CRS) - how the spatial coordinates (latitude and longitude)\n",
    "#are interpreted and mapped onto a two-dimensional plane\n",
    "world_gdf.crs\n",
    "\n",
    "#linking extra data from csv to GeoDataFrame to plot info along maps\n",
    "merged = districts.merge(deceased, how='left', left_on='district', right_on='Districts')\n",
    "\n",
    "ax = deaths.plot(column=\"Count\", cmap=\"rainbow\", linewidth=0.8, alpha=0.7, legend=True)\n",
    "pumps.plot(ax=ax, marker='x', color='r', markersize=50)\n",
    "\n",
    "#adds basemap to the plot, background map using web map tiles\n",
    "ctx.add_basemap(ax, crs=deaths.crs.to_string())"
   ]
  },
  {
   "cell_type": "code",
   "execution_count": null,
   "metadata": {},
   "outputs": [],
   "source": [
    "#BASEMAP\n",
    "from mpl_toolkits.basemap import Basemap\n",
    "\n",
    "#projection- merc,cyl,lcc,robin,ortho;  resolution - c, l, i, h, f\n",
    "m = Basemap(projection='merc', llcrnrlat=7, urcrnrlat=19, llcrnrlon=76, urcrnrlon=80, resolution='i')\n",
    "\n",
    "m.drawmapboundary(fill_color='aqua')\n",
    "m.drawstates(linewidth=0.7, color='r', alpha=0.8)\n",
    "m.fillcontinents(color='lightgreen', lake_color='aqua')\n",
    "m.drawcoastlines()\n",
    "m.drawcountries()\n",
    "m.drawrivers()\n",
    "m.drawstates(linewidth=1)\n",
    "\n",
    "# m Basemap object converts geographical coordinates (longitude and latitude)\n",
    "# of a location into projected coordinates (x, y) on the map.\n",
    "x, y = m(bangalore_lon, bangalore_lat)\n",
    "plt.plot(x, y, 'ro', markersize=6)\n",
    "plt.text(x, y, 'Bangalore', fontsize=12, color='r')"
   ]
  }
 ],
 "metadata": {
  "kernelspec": {
   "display_name": "Python 3",
   "language": "python",
   "name": "python3"
  },
  "language_info": {
   "codemirror_mode": {
    "name": "ipython",
    "version": 3
   },
   "file_extension": ".py",
   "mimetype": "text/x-python",
   "name": "python",
   "nbconvert_exporter": "python",
   "pygments_lexer": "ipython3",
   "version": "3.10.0"
  }
 },
 "nbformat": 4,
 "nbformat_minor": 2
}

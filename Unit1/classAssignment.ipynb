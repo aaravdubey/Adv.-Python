{
 "cells": [
  {
   "cell_type": "code",
   "execution_count": 2,
   "metadata": {},
   "outputs": [],
   "source": [
    "#Locate Karnatka \n",
    "#plot bangalore\n",
    "#all functions \n",
    "from mpl_toolkits.basemap import Basemap\n",
    "import pandas as pd\n",
    "import matplotlib.pyplot as plt\n",
    "import geopandas as gpd "
   ]
  },
  {
   "cell_type": "code",
   "execution_count": 8,
   "metadata": {},
   "outputs": [
    {
     "data": {
      "image/png": "[encoded data removed]",
      "text/plain": [
       "<Figure size 432x288 with 1 Axes>"
      ]
     },
     "metadata": {},
     "output_type": "display_data"
    }
   ],
   "source": [
    "bangalore_lat, bangalore_lon = 12.9716, 77.5946\n",
    "\n",
    "m = Basemap(projection='merc', llcrnrlat=11, urcrnrlat=19, llcrnrlon=74, urcrnrlon=78, resolution='i')\n",
    "\n",
    "m.drawmapboundary(fill_color='aqua')\n",
    "m.fillcontinents(color='lightgreen', lake_color='aqua')\n",
    "m.drawcoastlines()\n",
    "m.drawcountries()\n",
    "m.drawstates()\n",
    "\n",
    "x, y = m(bangalore_lon, bangalore_lat)\n",
    "plt.plot(x, y, 'ro', markersize=6)\n",
    "plt.text(x, y, 'Bangalore', fontsize=12, color='r')\n",
    "\n",
    "plt.title('Map of Karnataka with Bangalore')\n",
    "plt.show()"
   ]
  },
  {
   "cell_type": "code",
   "execution_count": 10,
   "metadata": {},
   "outputs": [
    {
     "data": {
      "text/plain": [
       "<matplotlib.collections.LineCollection at 0x177dccd4580>"
      ]
     },
     "execution_count": 10,
     "metadata": {},
     "output_type": "execute_result"
    },
    {
     "data": {
      "image/png": "[encoded data removed]",
      "text/plain": [
       "<Figure size 432x288 with 1 Axes>"
      ]
     },
     "metadata": {},
     "output_type": "display_data"
    }
   ],
   "source": [
    "bangalore_lat, bangalore_lon = 12.9716, 77.5946\n",
    "\n",
    "m = Basemap(projection='merc', llcrnrlat=7, urcrnrlat=19, llcrnrlon=76, urcrnrlon=80, resolution='i')\n",
    "\n",
    "m.drawmapboundary(fill_color='aqua')\n",
    "m.drawstates()\n",
    "m.fillcontinents(color='lightgreen', lake_color='aqua')\n",
    "m.drawcoastlines()\n",
    "m.drawcountries()\n",
    "m.drawrivers()\n",
    "m.drawstates(linewidth=1)\n",
    "\n",
    "x, y = m(bangalore_lon, bangalore_lat)\n",
    "plt.plot(x, y, 'ro', markersize=6)\n",
    "plt.text(x, y, 'Bangalore', fontsize=12, color='r')\n",
    "\n",
    "plt.title('Map of Karnataka with Bangalore')\n",
    "plt.show()"
   ]
  },
  {
   "cell_type": "code",
   "execution_count": 4,
   "metadata": {},
   "outputs": [
    {
     "ename": "OSError",
     "evalue": "cannot locate India Shape/india_st.shp",
     "output_type": "error",
     "traceback": [
      "\u001b[1;31m---------------------------------------------------------------------------\u001b[0m",
      "\u001b[1;31mOSError\u001b[0m                                   Traceback (most recent call last)",
      "Input \u001b[1;32mIn [4]\u001b[0m, in \u001b[0;36m<module>\u001b[1;34m\u001b[0m\n\u001b[0;32m      1\u001b[0m m \u001b[38;5;241m=\u001b[39m Basemap(llcrnrlon\u001b[38;5;241m=\u001b[39m\u001b[38;5;241m72\u001b[39m, llcrnrlat\u001b[38;5;241m=\u001b[39m\u001b[38;5;241m9\u001b[39m, urcrnrlon\u001b[38;5;241m=\u001b[39m\u001b[38;5;241m88\u001b[39m, urcrnrlat\u001b[38;5;241m=\u001b[39m\u001b[38;5;241m20\u001b[39m, projection\u001b[38;5;241m=\u001b[39m\u001b[38;5;124m'\u001b[39m\u001b[38;5;124mlcc\u001b[39m\u001b[38;5;124m'\u001b[39m, lat_1\u001b[38;5;241m=\u001b[39m\u001b[38;5;241m12\u001b[39m, lat_2\u001b[38;5;241m=\u001b[39m\u001b[38;5;241m16\u001b[39m, lon_0\u001b[38;5;241m=\u001b[39m\u001b[38;5;241m76\u001b[39m)\n\u001b[1;32m----> 3\u001b[0m \u001b[43mm\u001b[49m\u001b[38;5;241;43m.\u001b[39;49m\u001b[43mreadshapefile\u001b[49m\u001b[43m(\u001b[49m\u001b[38;5;124;43m'\u001b[39;49m\u001b[38;5;124;43mIndia Shape/india_st\u001b[39;49m\u001b[38;5;124;43m'\u001b[39;49m\u001b[43m,\u001b[49m\u001b[43m \u001b[49m\u001b[38;5;124;43m'\u001b[39;49m\u001b[38;5;124;43mstates\u001b[39;49m\u001b[38;5;124;43m'\u001b[39;49m\u001b[43m,\u001b[49m\u001b[43m \u001b[49m\u001b[43mdrawbounds\u001b[49m\u001b[38;5;241;43m=\u001b[39;49m\u001b[38;5;28;43;01mTrue\u001b[39;49;00m\u001b[43m)\u001b[49m\n\u001b[0;32m      5\u001b[0m lats \u001b[38;5;241m=\u001b[39m [\u001b[38;5;241m12.9716\u001b[39m]\n\u001b[0;32m      6\u001b[0m lons \u001b[38;5;241m=\u001b[39m [\u001b[38;5;241m77.5946\u001b[39m]\n",
      "File \u001b[1;32mc:\\Users\\daara\\AppData\\Local\\Programs\\Python\\Python310\\lib\\site-packages\\mpl_toolkits\\basemap\\__init__.py:2133\u001b[0m, in \u001b[0;36mBasemap.readshapefile\u001b[1;34m(self, shapefile, name, drawbounds, zorder, linewidth, color, antialiased, ax, default_encoding, encoding_errors)\u001b[0m\n\u001b[0;32m   2131\u001b[0m shp\u001b[38;5;241m.\u001b[39mdefault_encoding \u001b[38;5;241m=\u001b[39m default_encoding\n\u001b[0;32m   2132\u001b[0m \u001b[38;5;28;01mif\u001b[39;00m \u001b[38;5;129;01mnot\u001b[39;00m os\u001b[38;5;241m.\u001b[39mpath\u001b[38;5;241m.\u001b[39mexists(\u001b[38;5;124m'\u001b[39m\u001b[38;5;132;01m%s\u001b[39;00m\u001b[38;5;124m.shp\u001b[39m\u001b[38;5;124m'\u001b[39m\u001b[38;5;241m%\u001b[39mshapefile):\n\u001b[1;32m-> 2133\u001b[0m     \u001b[38;5;28;01mraise\u001b[39;00m \u001b[38;5;167;01mIOError\u001b[39;00m(\u001b[38;5;124m'\u001b[39m\u001b[38;5;124mcannot locate \u001b[39m\u001b[38;5;132;01m%s\u001b[39;00m\u001b[38;5;124m.shp\u001b[39m\u001b[38;5;124m'\u001b[39m\u001b[38;5;241m%\u001b[39mshapefile)\n\u001b[0;32m   2134\u001b[0m \u001b[38;5;28;01mif\u001b[39;00m \u001b[38;5;129;01mnot\u001b[39;00m os\u001b[38;5;241m.\u001b[39mpath\u001b[38;5;241m.\u001b[39mexists(\u001b[38;5;124m'\u001b[39m\u001b[38;5;132;01m%s\u001b[39;00m\u001b[38;5;124m.shx\u001b[39m\u001b[38;5;124m'\u001b[39m\u001b[38;5;241m%\u001b[39mshapefile):\n\u001b[0;32m   2135\u001b[0m     \u001b[38;5;28;01mraise\u001b[39;00m \u001b[38;5;167;01mIOError\u001b[39;00m(\u001b[38;5;124m'\u001b[39m\u001b[38;5;124mcannot locate \u001b[39m\u001b[38;5;132;01m%s\u001b[39;00m\u001b[38;5;124m.shx\u001b[39m\u001b[38;5;124m'\u001b[39m\u001b[38;5;241m%\u001b[39mshapefile)\n",
      "\u001b[1;31mOSError\u001b[0m: cannot locate India Shape/india_st.shp"
     ]
    }
   ],
   "source": [
    "m = Basemap(llcrnrlon=72, llcrnrlat=9, urcrnrlon=88, urcrnrlat=20, projection='lcc', lat_1=12, lat_2=16, lon_0=76)\n",
    "\n",
    "m.readshapefile('India Shape/india_st', 'states', drawbounds=True)\n",
    "\n",
    "lats = [12.9716]\n",
    "lons = [77.5946]\n",
    "\n",
    "m.drawcountries(color='#ffffff', linewidth=0.5)\n",
    "m.fillcontinents(color='#c0c0c0', lake_color='#ffffff')\n",
    "\n",
    "x, y = m(lons, lats)\n",
    "m.plot(x, y, 'bo', color='r', markersize=5)\n",
    "\n",
    "plt.show()"
   ]
  }
 ],
 "metadata": {
  "kernelspec": {
   "display_name": "Python 3",
   "language": "python",
   "name": "python3"
  },
  "language_info": {
   "codemirror_mode": {
    "name": "ipython",
    "version": 3
   },
   "file_extension": ".py",
   "mimetype": "text/x-python",
   "name": "python",
   "nbconvert_exporter": "python",
   "pygments_lexer": "ipython3",
   "version": "3.10.0"
  }
 },
 "nbformat": 4,
 "nbformat_minor": 2
}
